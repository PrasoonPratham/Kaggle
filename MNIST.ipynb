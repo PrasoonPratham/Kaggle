{
  "nbformat": 4,
  "nbformat_minor": 0,
  "metadata": {
    "colab": {
      "name": "MNIST.ipynb",
      "provenance": [],
      "authorship_tag": "ABX9TyPACkF2ILzwLAjF+rb7h82l",
      "include_colab_link": true
    },
    "kernelspec": {
      "name": "python3",
      "display_name": "Python 3"
    },
    "accelerator": "GPU"
  },
  "cells": [
    {
      "cell_type": "markdown",
      "metadata": {
        "id": "view-in-github",
        "colab_type": "text"
      },
      "source": [
        "<a href=\"https://colab.research.google.com/github/PrasoonPratham/Kaggle/blob/main/MNIST.ipynb\" target=\"_parent\"><img src=\"https://colab.research.google.com/assets/colab-badge.svg\" alt=\"Open In Colab\"/></a>"
      ]
    },
    {
      "cell_type": "markdown",
      "metadata": {
        "id": "B5yd0DJOERGV"
      },
      "source": [
        "# My solution for the MNIST dataset.\n",
        "\n",
        "\n",
        "---\n",
        "![MNIST Dataset](https://upload.wikimedia.org/wikipedia/commons/thumb/2/27/MnistExamples.png/440px-MnistExamples.png)\n",
        "\n",
        "MNIST (\"Modified National Institute of Standards and Technology\") is the de facto “hello world” dataset of computer vision. Since its release in 1999, this classic dataset of handwritten images has served as the basis for benchmarking classification algorithms. As new machine learning techniques emerge, MNIST remains a reliable resource for researchers and learners alike.\n",
        "\n",
        "Source : [Kaggle](https://www.kaggle.com/c/digit-recognizer)\n",
        "\n",
        "\n",
        "> In this notebook I will attempt to make a machine learning model for the MNIST dataset.\n",
        "\n",
        "You can follow me on Twitter : [@PrasoonPratham](https://twitter.com/PrasoonPratham)"
      ]
    },
    {
      "cell_type": "code",
      "metadata": {
        "id": "cDQkxfPqI0nK",
        "outputId": "63c08915-228d-46ab-9327-2cae05c16150",
        "colab": {
          "base_uri": "https://localhost:8080/"
        }
      },
      "source": [
        "!pip install kaggle\n",
        "api_token = {\"username\":\"prathamprasoon\",\"key\":\"4eec6bdf09208b0e38d6f39fcec31bde\"}\n",
        "import json\n",
        "import zipfile\n",
        "import os\n",
        "!mkdir /root/.kaggle\n",
        "!mkdir /content/competitions/digit-recognizer\n",
        "!echo '{\"username\":\"USERNAME\",\"key\":\"API_KEY\"}' > /root/.kaggle/kaggle.json\n",
        "with open('/root/.kaggle/kaggle.json', 'w') as file:\n",
        "    json.dump(api_token, file)\n",
        "!kaggle competitions download -c digit-recognizer"
      ],
      "execution_count": 33,
      "outputs": [
        {
          "output_type": "stream",
          "text": [
            "Requirement already satisfied: kaggle in /usr/local/lib/python3.6/dist-packages (1.5.9)\n",
            "Requirement already satisfied: python-dateutil in /usr/local/lib/python3.6/dist-packages (from kaggle) (2.8.1)\n",
            "Requirement already satisfied: tqdm in /usr/local/lib/python3.6/dist-packages (from kaggle) (4.41.1)\n",
            "Requirement already satisfied: six>=1.10 in /usr/local/lib/python3.6/dist-packages (from kaggle) (1.15.0)\n",
            "Requirement already satisfied: certifi in /usr/local/lib/python3.6/dist-packages (from kaggle) (2020.6.20)\n",
            "Requirement already satisfied: python-slugify in /usr/local/lib/python3.6/dist-packages (from kaggle) (4.0.1)\n",
            "Requirement already satisfied: slugify in /usr/local/lib/python3.6/dist-packages (from kaggle) (0.0.1)\n",
            "Requirement already satisfied: urllib3 in /usr/local/lib/python3.6/dist-packages (from kaggle) (1.24.3)\n",
            "Requirement already satisfied: requests in /usr/local/lib/python3.6/dist-packages (from kaggle) (2.23.0)\n",
            "Requirement already satisfied: text-unidecode>=1.3 in /usr/local/lib/python3.6/dist-packages (from python-slugify->kaggle) (1.3)\n",
            "Requirement already satisfied: idna<3,>=2.5 in /usr/local/lib/python3.6/dist-packages (from requests->kaggle) (2.10)\n",
            "Requirement already satisfied: chardet<4,>=3.0.2 in /usr/local/lib/python3.6/dist-packages (from requests->kaggle) (3.0.4)\n",
            "mkdir: cannot create directory ‘/root/.kaggle’: File exists\n",
            "mkdir: cannot create directory ‘/content/competitions/digit-recognizer’: File exists\n",
            "Warning: Your Kaggle API key is readable by other users on this system! To fix this, you can run 'chmod 600 /root/.kaggle/kaggle.json'\n",
            "Warning: Looks like you're using an outdated API Version, please consider updating (server 1.5.9 / client 1.5.4)\n",
            "Downloading test.csv.zip to /content/competitions/digit-recognizer\n",
            "  0% 0.00/6.09M [00:00<?, ?B/s]\n",
            "100% 6.09M/6.09M [00:00<00:00, 56.2MB/s]\n",
            "Downloading train.csv.zip to /content/competitions/digit-recognizer\n",
            " 55% 5.00M/9.16M [00:00<00:00, 14.1MB/s]\n",
            "100% 9.16M/9.16M [00:00<00:00, 20.7MB/s]\n",
            "sample_submission.csv: Skipping, found more recently modified local copy (use --force to force download)\n"
          ],
          "name": "stdout"
        }
      ]
    },
    {
      "cell_type": "code",
      "metadata": {
        "id": "1XfRAA6j0ZEX",
        "outputId": "f6428580-3d6f-42a4-d1ad-1b842685b64c",
        "colab": {
          "base_uri": "https://localhost:8080/"
        }
      },
      "source": [
        "%%bash\n",
        "mkdir /content/competitions/digit-recognizer"
      ],
      "execution_count": 34,
      "outputs": [
        {
          "output_type": "stream",
          "text": [
            "mkdir: cannot create directory ‘/content/competitions/digit-recognizer’: File exists\n"
          ],
          "name": "stderr"
        }
      ]
    },
    {
      "cell_type": "code",
      "metadata": {
        "id": "phsfs3J0hSBi"
      },
      "source": [
        "%%bash\n",
        "mv /content/competitions/digit-recognizer/train.csv.zip /content/competitions/digit-recognizer/traincsv.zip\n",
        "mv /content/competitions/digit-recognizer/test.csv.zip /content/competitions/digit-recognizer/testcsv.zip"
      ],
      "execution_count": 35,
      "outputs": []
    },
    {
      "cell_type": "code",
      "metadata": {
        "id": "xG9xnm3CJvEF"
      },
      "source": [
        "zip_ref = zipfile.ZipFile('/content/competitions/digit-recognizer/traincsv.zip', 'r')\n",
        "zip_ref.extractall()\n",
        "zip_ref.close()"
      ],
      "execution_count": 36,
      "outputs": []
    },
    {
      "cell_type": "code",
      "metadata": {
        "id": "wsU0U_q2c4J9"
      },
      "source": [
        "zip_ref = zipfile.ZipFile('/content/competitions/digit-recognizer/testcsv.zip', 'r')\n",
        "zip_ref.extractall()\n",
        "zip_ref.close()"
      ],
      "execution_count": 37,
      "outputs": []
    },
    {
      "cell_type": "code",
      "metadata": {
        "id": "sDBA-r_dJwR1"
      },
      "source": [
        "import pandas as pd\n",
        "test_data = pd.read_csv('/content/competitions/digit-recognizer/test.csv')\n",
        "train_data = pd.read_csv('/content/competitions/digit-recognizer/train.csv')"
      ],
      "execution_count": 38,
      "outputs": []
    },
    {
      "cell_type": "code",
      "metadata": {
        "id": "DRE9VfKainkP"
      },
      "source": [
        "import numpy as np\n",
        "import seaborn as sns\n",
        "import tensorflow as tf"
      ],
      "execution_count": 39,
      "outputs": []
    },
    {
      "cell_type": "code",
      "metadata": {
        "id": "VVmQ3UrZlmzF"
      },
      "source": [
        "Y_train = train_data[\"label\"]\n",
        "\n",
        "# Drop 'label' column\n",
        "X_train = train_data.drop(labels = [\"label\"],axis = 1) "
      ],
      "execution_count": 40,
      "outputs": []
    },
    {
      "cell_type": "code",
      "metadata": {
        "id": "Q-wZWmu7n6ki"
      },
      "source": [
        "X_train = X_train/255.0\n",
        "test_data = test_data/255.0\n",
        "\n",
        "X_train = X_train.values.reshape(-1,28,28,1)\n",
        "test_data = test_data.values.reshape(-1,28,28,1)"
      ],
      "execution_count": 41,
      "outputs": []
    },
    {
      "cell_type": "code",
      "metadata": {
        "id": "RA4OuaU_xec7"
      },
      "source": [
        "from sklearn.model_selection import train_test_split\n",
        "\n",
        "X1_train,Y1_train,X2_train,Y2_train=train_test_split(X_train,Y_train,test_size = 0.1, random_state=2)"
      ],
      "execution_count": 44,
      "outputs": []
    },
    {
      "cell_type": "code",
      "metadata": {
        "id": "FMd_FAXBo2r_"
      },
      "source": [
        "model = tf.keras.models.Sequential([\n",
        "  tf.keras.layers.Conv2D(64, (3,3), activation='relu', input_shape=(28, 28, 1)),\n",
        "  tf.keras.layers.MaxPooling2D(2, 2),\n",
        "  tf.keras.layers.Conv2D(32, (3,3), activation='relu'),\n",
        "  tf.keras.layers.MaxPooling2D(2,2),\n",
        "  tf.keras.layers.Conv2D(16, (3,3), activation='relu'),\n",
        "  tf.keras.layers.MaxPooling2D(2,2),\n",
        "  tf.keras.layers.Flatten(),                      \n",
        "  tf.keras.layers.Dense(128, activation=tf.nn.relu),\n",
        "  tf.keras.layers.Dropout(0.5),\n",
        "  tf.keras.layers.Dense(10, activation=tf.nn.softmax)\n",
        "])\n",
        "\n",
        "model.compile(optimizer='adam',\n",
        "              loss='sparse_categorical_crossentropy',\n",
        "              metrics=['accuracy'])\n"
      ],
      "execution_count": 65,
      "outputs": []
    },
    {
      "cell_type": "code",
      "metadata": {
        "id": "w80CF7-lpBBT",
        "outputId": "c152d9b8-c6d9-4a50-f0c5-efb59c524223",
        "colab": {
          "base_uri": "https://localhost:8080/"
        }
      },
      "source": [
        "model.fit(X1_train, X2_train, epochs=15)"
      ],
      "execution_count": 72,
      "outputs": [
        {
          "output_type": "stream",
          "text": [
            "Epoch 1/15\n",
            "1182/1182 [==============================] - 3s 3ms/step - loss: 0.0059 - accuracy: 0.9987\n",
            "Epoch 2/15\n",
            "1182/1182 [==============================] - 3s 3ms/step - loss: 0.0077 - accuracy: 0.9986\n",
            "Epoch 3/15\n",
            "1182/1182 [==============================] - 3s 3ms/step - loss: 0.0052 - accuracy: 0.9988\n",
            "Epoch 4/15\n",
            "1182/1182 [==============================] - 3s 3ms/step - loss: 0.0106 - accuracy: 0.9981\n",
            "Epoch 5/15\n",
            "1182/1182 [==============================] - 3s 3ms/step - loss: 0.0082 - accuracy: 0.9986\n",
            "Epoch 6/15\n",
            "1182/1182 [==============================] - 3s 3ms/step - loss: 0.0061 - accuracy: 0.9988\n",
            "Epoch 7/15\n",
            "1182/1182 [==============================] - 3s 3ms/step - loss: 0.0066 - accuracy: 0.9991\n",
            "Epoch 8/15\n",
            "1182/1182 [==============================] - 3s 3ms/step - loss: 0.0061 - accuracy: 0.9989\n",
            "Epoch 9/15\n",
            "1182/1182 [==============================] - 3s 3ms/step - loss: 0.0045 - accuracy: 0.9989\n",
            "Epoch 10/15\n",
            "1182/1182 [==============================] - 3s 3ms/step - loss: 0.0113 - accuracy: 0.9981\n",
            "Epoch 11/15\n",
            "1182/1182 [==============================] - 3s 3ms/step - loss: 0.0082 - accuracy: 0.9985\n",
            "Epoch 12/15\n",
            "1182/1182 [==============================] - 3s 3ms/step - loss: 0.0063 - accuracy: 0.9987\n",
            "Epoch 13/15\n",
            "1182/1182 [==============================] - 3s 3ms/step - loss: 0.0072 - accuracy: 0.9989\n",
            "Epoch 14/15\n",
            "1182/1182 [==============================] - 3s 3ms/step - loss: 0.0048 - accuracy: 0.9990\n",
            "Epoch 15/15\n",
            "1182/1182 [==============================] - 3s 3ms/step - loss: 0.0115 - accuracy: 0.9980\n"
          ],
          "name": "stdout"
        },
        {
          "output_type": "execute_result",
          "data": {
            "text/plain": [
              "<tensorflow.python.keras.callbacks.History at 0x7fb3644bf2b0>"
            ]
          },
          "metadata": {
            "tags": []
          },
          "execution_count": 72
        }
      ]
    },
    {
      "cell_type": "code",
      "metadata": {
        "id": "5eoyBbZLvBLr",
        "outputId": "9df9d1cc-d3c0-4f9f-e06d-0a9320e440e5",
        "colab": {
          "base_uri": "https://localhost:8080/"
        }
      },
      "source": [
        "results = model.evaluate(Y1_train, Y2_train, batch_size=32)"
      ],
      "execution_count": 73,
      "outputs": [
        {
          "output_type": "stream",
          "text": [
            "132/132 [==============================] - 0s 2ms/step - loss: 0.4681 - accuracy: 0.9814\n"
          ],
          "name": "stdout"
        }
      ]
    },
    {
      "cell_type": "code",
      "metadata": {
        "id": "LiEi_YUKvH1N",
        "outputId": "f72e3a3a-b38e-40f5-cc90-b2460100cec8",
        "colab": {
          "base_uri": "https://localhost:8080/"
        }
      },
      "source": [
        "print(\"Fit model on training data\")\n",
        "history = model.fit(\n",
        "    X1_train,\n",
        "    X2_train,\n",
        "    batch_size=32,\n",
        "    epochs=9,\n",
        "    validation_data=(Y1_train, Y2_train),\n",
        ")"
      ],
      "execution_count": 74,
      "outputs": [
        {
          "output_type": "stream",
          "text": [
            "Fit model on training data\n",
            "Epoch 1/9\n",
            "1182/1182 [==============================] - 3s 3ms/step - loss: 0.0083 - accuracy: 0.9983 - val_loss: 0.3813 - val_accuracy: 0.9814\n",
            "Epoch 2/9\n",
            "1182/1182 [==============================] - 3s 3ms/step - loss: 0.0106 - accuracy: 0.9985 - val_loss: 0.3855 - val_accuracy: 0.9812\n",
            "Epoch 3/9\n",
            "1182/1182 [==============================] - 3s 3ms/step - loss: 0.0087 - accuracy: 0.9985 - val_loss: 0.3407 - val_accuracy: 0.9840\n",
            "Epoch 4/9\n",
            "1182/1182 [==============================] - 3s 3ms/step - loss: 0.0052 - accuracy: 0.9989 - val_loss: 0.4359 - val_accuracy: 0.9798\n",
            "Epoch 5/9\n",
            "1182/1182 [==============================] - 3s 3ms/step - loss: 0.0152 - accuracy: 0.9981 - val_loss: 0.3706 - val_accuracy: 0.9829\n",
            "Epoch 6/9\n",
            "1182/1182 [==============================] - 3s 3ms/step - loss: 0.0057 - accuracy: 0.9989 - val_loss: 0.3708 - val_accuracy: 0.9831\n",
            "Epoch 7/9\n",
            "1182/1182 [==============================] - 3s 3ms/step - loss: 0.0064 - accuracy: 0.9988 - val_loss: 0.3819 - val_accuracy: 0.9805\n",
            "Epoch 8/9\n",
            "1182/1182 [==============================] - 3s 3ms/step - loss: 0.0135 - accuracy: 0.9979 - val_loss: 0.4806 - val_accuracy: 0.9783\n",
            "Epoch 9/9\n",
            "1182/1182 [==============================] - 3s 3ms/step - loss: 0.0091 - accuracy: 0.9983 - val_loss: 0.4347 - val_accuracy: 0.9798\n"
          ],
          "name": "stdout"
        }
      ]
    },
    {
      "cell_type": "code",
      "metadata": {
        "id": "eD5RIQNA1Xxc",
        "outputId": "56c0d0fc-1258-4658-a699-16fbf1362c1a",
        "colab": {
          "base_uri": "https://localhost:8080/",
          "height": 563
        }
      },
      "source": [
        "%matplotlib inline\n",
        "\n",
        "import matplotlib.image  as mpimg\n",
        "import matplotlib.pyplot as plt\n",
        "\n",
        "#-----------------------------------------------------------\n",
        "# Retrieve a list of list results on training and test data\n",
        "# sets for each training epoch\n",
        "#-----------------------------------------------------------\n",
        "acc=history.history['accuracy']\n",
        "val_acc=history.history['val_accuracy']\n",
        "loss=history.history['loss']\n",
        "val_loss=history.history['val_loss']\n",
        "\n",
        "epochs=range(len(acc)) # Get number of epochs\n",
        "\n",
        "#------------------------------------------------\n",
        "# Plot training and validation accuracy per epoch\n",
        "#------------------------------------------------\n",
        "plt.plot(epochs, acc, 'r', \"Training Accuracy\")\n",
        "plt.plot(epochs, val_acc, 'b', \"Validation Accuracy\")\n",
        "plt.title('Training and validation accuracy')\n",
        "plt.figure()\n",
        "\n",
        "#------------------------------------------------\n",
        "# Plot training and validation loss per epoch\n",
        "#------------------------------------------------\n",
        "plt.plot(epochs, loss, 'r', \"Training Loss\")\n",
        "plt.plot(epochs, val_loss, 'b', \"Validation Loss\")\n",
        "plt.figure()\n",
        "\n",
        "\n",
        "# Desired output. Charts with training and validation metrics. No crash :)"
      ],
      "execution_count": 75,
      "outputs": [
        {
          "output_type": "execute_result",
          "data": {
            "text/plain": [
              "<Figure size 432x288 with 0 Axes>"
            ]
          },
          "metadata": {
            "tags": []
          },
          "execution_count": 75
        },
        {
          "output_type": "display_data",
          "data": {
            "image/png": "[encoded data removed]",
            "text/plain": [
              "<Figure size 432x288 with 1 Axes>"
            ]
          },
          "metadata": {
            "tags": [],
            "needs_background": "light"
          }
        },
        {
          "output_type": "display_data",
          "data": {
            "image/png": "[encoded data removed]",
            "text/plain": [
              "<Figure size 432x288 with 1 Axes>"
            ]
          },
          "metadata": {
            "tags": [],
            "needs_background": "light"
          }
        },
        {
          "output_type": "display_data",
          "data": {
            "text/plain": [
              "<Figure size 432x288 with 0 Axes>"
            ]
          },
          "metadata": {
            "tags": []
          }
        }
      ]
    },
    {
      "cell_type": "code",
      "metadata": {
        "id": "Hiw1Yu5b5sFU"
      },
      "source": [
        "predicted_classes = model.predict_classes(test_data)\n",
        "submissions=pd.DataFrame({\"ImageId\": list(range(1,len(predicted_classes)+1)),\n",
        "                         \"Label\": predicted_classes})\n",
        "submissions.to_csv(\"submission.csv\", index=False, header=True)"
      ],
      "execution_count": 77,
      "outputs": []
    },
    {
      "cell_type": "code",
      "metadata": {
        "id": "L-OQgGsT62L6"
      },
      "source": [
        ""
      ],
      "execution_count": null,
      "outputs": []
    }
  ]
}