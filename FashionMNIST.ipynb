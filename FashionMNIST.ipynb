{
  "nbformat": 4,
  "nbformat_minor": 0,
  "metadata": {
    "colab": {
      "name": "FashionMNIST.ipynb",
      "provenance": [],
      "collapsed_sections": [],
      "authorship_tag": "ABX9TyPs5G+N1UQMG4xnMy8T4SPo",
      "include_colab_link": true
    },
    "kernelspec": {
      "name": "python3",
      "display_name": "Python 3"
    },
    "accelerator": "GPU"
  },
  "cells": [
    {
      "cell_type": "markdown",
      "metadata": {
        "id": "view-in-github",
        "colab_type": "text"
      },
      "source": [
        "<a href=\"https://colab.research.google.com/github/PrasoonPratham/Kaggle/blob/main/FashionMNIST.ipynb\" target=\"_parent\"><img src=\"https://colab.research.google.com/assets/colab-badge.svg\" alt=\"Open In Colab\"/></a>"
      ]
    },
    {
      "cell_type": "code",
      "metadata": {
        "id": "7tQlv6RIOYWu",
        "outputId": "57e7fd94-1f8c-4c6e-9f0e-1db99fa13f67",
        "colab": {
          "base_uri": "https://localhost:8080/"
        }
      },
      "source": [
        "#Using the Kaggle API to fetch the dataset for this competition\n",
        "\n",
        "!pip install kaggle\n",
        "api_token = {\"username\":\"prathamsbot\",\"key\":\"31df8eaf691eda54bf2ca336d9d59eb6\"}\n",
        "import json\n",
        "import zipfile\n",
        "import os\n",
        "!mkdir /root/.kaggle\n",
        "!echo '{\"username\":\"USERNAME\",\"key\":\"API_KEY\"}' > /root/.kaggle/kaggle.json\n",
        "with open('/root/.kaggle/kaggle.json', 'w') as file:\n",
        "    json.dump(api_token, file)\n",
        "!chmod 600 /root/.kaggle/kaggle.json\n",
        "!kaggle datasets download -d zalando-research/fashionmnist"
      ],
      "execution_count": null,
      "outputs": [
        {
          "output_type": "stream",
          "text": [
            "Requirement already satisfied: kaggle in /usr/local/lib/python3.6/dist-packages (1.5.9)\n",
            "Requirement already satisfied: urllib3 in /usr/local/lib/python3.6/dist-packages (from kaggle) (1.24.3)\n",
            "Requirement already satisfied: python-dateutil in /usr/local/lib/python3.6/dist-packages (from kaggle) (2.8.1)\n",
            "Requirement already satisfied: requests in /usr/local/lib/python3.6/dist-packages (from kaggle) (2.23.0)\n",
            "Requirement already satisfied: tqdm in /usr/local/lib/python3.6/dist-packages (from kaggle) (4.41.1)\n",
            "Requirement already satisfied: python-slugify in /usr/local/lib/python3.6/dist-packages (from kaggle) (4.0.1)\n",
            "Requirement already satisfied: slugify in /usr/local/lib/python3.6/dist-packages (from kaggle) (0.0.1)\n",
            "Requirement already satisfied: certifi in /usr/local/lib/python3.6/dist-packages (from kaggle) (2020.6.20)\n",
            "Requirement already satisfied: six>=1.10 in /usr/local/lib/python3.6/dist-packages (from kaggle) (1.15.0)\n",
            "Requirement already satisfied: idna<3,>=2.5 in /usr/local/lib/python3.6/dist-packages (from requests->kaggle) (2.10)\n",
            "Requirement already satisfied: chardet<4,>=3.0.2 in /usr/local/lib/python3.6/dist-packages (from requests->kaggle) (3.0.4)\n",
            "Requirement already satisfied: text-unidecode>=1.3 in /usr/local/lib/python3.6/dist-packages (from python-slugify->kaggle) (1.3)\n",
            "Downloading fashionmnist.zip to /content\n",
            " 83% 57.0M/68.8M [00:00<00:00, 122MB/s] \n",
            "100% 68.8M/68.8M [00:00<00:00, 155MB/s]\n"
          ],
          "name": "stdout"
        }
      ]
    },
    {
      "cell_type": "code",
      "metadata": {
        "id": "yFFXTtocSVl0"
      },
      "source": [
        "zip_ref = zipfile.ZipFile('/content/fashionmnist.zip', 'r')\n",
        "zip_ref.extractall()\n",
        "zip_ref.close()"
      ],
      "execution_count": null,
      "outputs": []
    },
    {
      "cell_type": "code",
      "metadata": {
        "id": "mpshOQeRSnwv"
      },
      "source": [
        "import pandas as pd\n",
        "test_data = pd.read_csv('/content/fashion-mnist_test.csv')\n",
        "train_data = pd.read_csv('/content/fashion-mnist_train.csv')"
      ],
      "execution_count": null,
      "outputs": []
    },
    {
      "cell_type": "code",
      "metadata": {
        "id": "v4DloIZbTKmF"
      },
      "source": [
        "#Importing numpy and tensorflow\n",
        "import numpy as np\n",
        "import tensorflow as tf"
      ],
      "execution_count": null,
      "outputs": []
    },
    {
      "cell_type": "code",
      "metadata": {
        "id": "bD7dpeWOTMcM"
      },
      "source": [
        "#Training labels set\n",
        "Y_train = train_data[\"label\"]\n",
        "Y_test = test_data[\"label\"]\n",
        "# Drop 'label' column\n",
        "X_train = train_data.drop(labels = [\"label\"],axis = 1) \n",
        "X_test = test_data.drop(labels = [\"label\"],axis = 1)"
      ],
      "execution_count": null,
      "outputs": []
    },
    {
      "cell_type": "code",
      "metadata": {
        "id": "y8iQc8IMTOQo"
      },
      "source": [
        "#Normalizing data for better performance\n",
        "X_train = X_train/255.0\n",
        "X_test = X_test/255.0\n",
        "\n",
        "#Reshaping Data\n",
        "X_train = X_train.values.reshape(-1,28,28,1)\n",
        "X_test = X_test.values.reshape(-1,28,28,1)"
      ],
      "execution_count": null,
      "outputs": []
    },
    {
      "cell_type": "code",
      "metadata": {
        "id": "dD6dS6uiTaTB"
      },
      "source": [
        "import tensorflow as tf\n",
        "from tensorflow.keras.optimizers import RMSprop\n",
        "#Model architecture\n",
        "model = tf.keras.models.Sequential([\n",
        "  tf.keras.layers.Conv2D(128, (3,3), activation='relu', input_shape=(28, 28, 1)),\n",
        "  tf.keras.layers.MaxPooling2D(2, 2),\n",
        "  tf.keras.layers.Conv2D(64, (3,3), activation='relu'),\n",
        "  tf.keras.layers.MaxPooling2D(2,2),\n",
        "  tf.keras.layers.Conv2D(32, (3,3), activation='relu'),\n",
        "  tf.keras.layers.MaxPooling2D(2,2),\n",
        "  tf.keras.layers.Flatten(),                      \n",
        "  tf.keras.layers.Dense(512, activation=tf.nn.relu),\n",
        "  tf.keras.layers.Dropout(0.5),\n",
        "  tf.keras.layers.Dense(10, activation=tf.nn.softmax)\n",
        "])\n",
        "\n",
        "model.compile(loss='sparse_categorical_crossentropy',\n",
        "              optimizer=RMSprop(lr=0.001),\n",
        "              metrics=['accuracy'])\n"
      ],
      "execution_count": null,
      "outputs": []
    },
    {
      "cell_type": "code",
      "metadata": {
        "id": "XzFHFQdRBdkh"
      },
      "source": [
        "train_datagen = ImageDataGenerator( \n",
        "        rotation_range=6,        # randomly rotate between 0-rotation_range angle\n",
        "        width_shift_range=0.4,    # randomly shift horizontally by this much\n",
        "        height_shift_range=0.4,   # randomly shift vertically by this much\n",
        "        shear_range=0.1,          # randomly shear by this much\n",
        "        zoom_range=0.1,           # randomly zoom (80% - 120%)\n",
        "        horizontal_flip=True,\n",
        "        fill_mode='nearest'       # fill any pixels lost in xform with nearest\n",
        "    )\n",
        "\n",
        "val_datagen = ImageDataGenerator()\n",
        "test_datagen = ImageDataGenerator()"
      ],
      "execution_count": null,
      "outputs": []
    },
    {
      "cell_type": "code",
      "metadata": {
        "id": "6Tsio4sk3IKg"
      },
      "source": [
        "from tensorflow.python import keras\n",
        "keras.backend.clear_session() "
      ],
      "execution_count": null,
      "outputs": []
    },
    {
      "cell_type": "code",
      "metadata": {
        "id": "uzPywHEhCJTE"
      },
      "source": [
        "# batch_size = 32\n",
        "# num_train_batches = len(X_train) // batch_size\n",
        "# num_train_batches += (0 if len(X_train) % batch_size == 0 else 1)     \n",
        "# num_val_batches = len(X_test) // batch_size\n",
        "# num_val_batches += (0 if len(X_test) % batch_size == 0 else 1)     \n",
        "# num_test_batches = len(X_test) // batch_size\n",
        "# num_test_batches += (0 if len(Y_test) % batch_size == 0 else 1) "
      ],
      "execution_count": null,
      "outputs": []
    },
    {
      "cell_type": "code",
      "metadata": {
        "id": "4VWHbNqBBtrg"
      },
      "source": [
        "    # train_generator = train_datagen.flow(X_train, Y_train, \n",
        "    #                                      batch_size=batch_size,\n",
        "    #                                      seed=123)\n",
        "    # val_generator = train_datagen.flow(X_test, Y_test, \n",
        "    #                                      batch_size=batch_size,\n",
        "    #                                      seed=123)\n",
        "    # test_generator = test_datagen.flow(X_test, Y_test, \n",
        "    #                                    batch_size=batch_size,\n",
        "    #                                    seed=123)\n",
        "\n",
        "    # history = model.fit_generator(train_generator,\n",
        "    #                               steps_per_epoch = num_train_batches, \n",
        "    #                               epochs = 100,\n",
        "    #                               validation_data = val_generator,\n",
        "    #                               validation_steps = num_val_batches)"
      ],
      "execution_count": null,
      "outputs": []
    },
    {
      "cell_type": "code",
      "metadata": {
        "id": "ntpIvI_2c6XH",
        "outputId": "7f3a7ded-26e3-4355-e058-af8f44fd825b",
        "colab": {
          "base_uri": "https://localhost:8080/"
        }
      },
      "source": [
        "print(\"Fit model on training data\")\n",
        "history = model.fit(\n",
        "    X_train,\n",
        "    Y_train,\n",
        "    batch_size=4096,\n",
        "    epochs=65,\n",
        "    validation_data=(X_test, Y_test),\n",
        ")"
      ],
      "execution_count": null,
      "outputs": [
        {
          "output_type": "stream",
          "text": [
            "Fit model on training data\n",
            "Epoch 1/65\n",
            "15/15 [==============================] - 3s 186ms/step - loss: 1.9453 - accuracy: 0.2761 - val_loss: 1.3526 - val_accuracy: 0.4803\n",
            "Epoch 2/65\n",
            "15/15 [==============================] - 3s 174ms/step - loss: 1.2641 - accuracy: 0.5016 - val_loss: 1.0626 - val_accuracy: 0.6192\n",
            "Epoch 3/65\n",
            "15/15 [==============================] - 3s 175ms/step - loss: 1.0736 - accuracy: 0.5850 - val_loss: 0.9204 - val_accuracy: 0.6558\n",
            "Epoch 4/65\n",
            "15/15 [==============================] - 3s 175ms/step - loss: 0.9576 - accuracy: 0.6360 - val_loss: 0.8232 - val_accuracy: 0.6952\n",
            "Epoch 5/65\n",
            "15/15 [==============================] - 3s 176ms/step - loss: 0.8804 - accuracy: 0.6651 - val_loss: 0.7607 - val_accuracy: 0.7166\n",
            "Epoch 6/65\n",
            "15/15 [==============================] - 3s 175ms/step - loss: 0.7957 - accuracy: 0.7030 - val_loss: 0.7449 - val_accuracy: 0.7358\n",
            "Epoch 7/65\n",
            "15/15 [==============================] - 3s 175ms/step - loss: 0.7560 - accuracy: 0.7171 - val_loss: 0.6766 - val_accuracy: 0.7623\n",
            "Epoch 8/65\n",
            "15/15 [==============================] - 3s 175ms/step - loss: 0.6980 - accuracy: 0.7406 - val_loss: 0.6942 - val_accuracy: 0.7234\n",
            "Epoch 9/65\n",
            "15/15 [==============================] - 3s 176ms/step - loss: 0.6902 - accuracy: 0.7425 - val_loss: 0.6166 - val_accuracy: 0.7758\n",
            "Epoch 10/65\n",
            "15/15 [==============================] - 3s 176ms/step - loss: 0.6485 - accuracy: 0.7593 - val_loss: 0.6334 - val_accuracy: 0.7545\n",
            "Epoch 11/65\n",
            "15/15 [==============================] - 3s 177ms/step - loss: 0.6282 - accuracy: 0.7688 - val_loss: 0.5801 - val_accuracy: 0.7850\n",
            "Epoch 12/65\n",
            "15/15 [==============================] - 3s 178ms/step - loss: 0.6173 - accuracy: 0.7727 - val_loss: 0.5672 - val_accuracy: 0.7895\n",
            "Epoch 13/65\n",
            "15/15 [==============================] - 3s 177ms/step - loss: 0.5847 - accuracy: 0.7847 - val_loss: 0.5486 - val_accuracy: 0.8011\n",
            "Epoch 14/65\n",
            "15/15 [==============================] - 3s 178ms/step - loss: 0.5738 - accuracy: 0.7883 - val_loss: 0.5409 - val_accuracy: 0.7987\n",
            "Epoch 15/65\n",
            "15/15 [==============================] - 3s 178ms/step - loss: 0.5582 - accuracy: 0.7981 - val_loss: 0.5308 - val_accuracy: 0.7999\n",
            "Epoch 16/65\n",
            "15/15 [==============================] - 3s 179ms/step - loss: 0.5469 - accuracy: 0.7979 - val_loss: 0.5115 - val_accuracy: 0.8093\n",
            "Epoch 17/65\n",
            "15/15 [==============================] - 3s 179ms/step - loss: 0.5311 - accuracy: 0.8058 - val_loss: 0.5245 - val_accuracy: 0.8022\n",
            "Epoch 18/65\n",
            "15/15 [==============================] - 3s 179ms/step - loss: 0.5231 - accuracy: 0.8073 - val_loss: 0.4770 - val_accuracy: 0.8210\n",
            "Epoch 19/65\n",
            "15/15 [==============================] - 3s 179ms/step - loss: 0.5077 - accuracy: 0.8148 - val_loss: 0.5099 - val_accuracy: 0.8129\n",
            "Epoch 20/65\n",
            "15/15 [==============================] - 3s 179ms/step - loss: 0.4990 - accuracy: 0.8178 - val_loss: 0.4740 - val_accuracy: 0.8203\n",
            "Epoch 21/65\n",
            "15/15 [==============================] - 3s 178ms/step - loss: 0.4987 - accuracy: 0.8176 - val_loss: 0.4484 - val_accuracy: 0.8347\n",
            "Epoch 22/65\n",
            "15/15 [==============================] - 3s 177ms/step - loss: 0.4795 - accuracy: 0.8241 - val_loss: 0.4539 - val_accuracy: 0.8320\n",
            "Epoch 23/65\n",
            "15/15 [==============================] - 3s 177ms/step - loss: 0.4725 - accuracy: 0.8252 - val_loss: 0.4367 - val_accuracy: 0.8410\n",
            "Epoch 24/65\n",
            "15/15 [==============================] - 3s 178ms/step - loss: 0.4584 - accuracy: 0.8320 - val_loss: 0.4415 - val_accuracy: 0.8335\n",
            "Epoch 25/65\n",
            "15/15 [==============================] - 3s 177ms/step - loss: 0.4597 - accuracy: 0.8313 - val_loss: 0.4341 - val_accuracy: 0.8380\n",
            "Epoch 26/65\n",
            "15/15 [==============================] - 3s 177ms/step - loss: 0.4557 - accuracy: 0.8330 - val_loss: 0.4194 - val_accuracy: 0.8451\n",
            "Epoch 27/65\n",
            "15/15 [==============================] - 3s 177ms/step - loss: 0.4424 - accuracy: 0.8372 - val_loss: 0.4101 - val_accuracy: 0.8468\n",
            "Epoch 28/65\n",
            "15/15 [==============================] - 3s 176ms/step - loss: 0.4394 - accuracy: 0.8388 - val_loss: 0.3972 - val_accuracy: 0.8504\n",
            "Epoch 29/65\n",
            "15/15 [==============================] - 3s 176ms/step - loss: 0.4318 - accuracy: 0.8394 - val_loss: 0.4075 - val_accuracy: 0.8465\n",
            "Epoch 30/65\n",
            "15/15 [==============================] - 3s 175ms/step - loss: 0.4249 - accuracy: 0.8433 - val_loss: 0.4133 - val_accuracy: 0.8433\n",
            "Epoch 31/65\n",
            "15/15 [==============================] - 3s 176ms/step - loss: 0.4249 - accuracy: 0.8439 - val_loss: 0.3815 - val_accuracy: 0.8572\n",
            "Epoch 32/65\n",
            "15/15 [==============================] - 3s 177ms/step - loss: 0.4152 - accuracy: 0.8477 - val_loss: 0.4181 - val_accuracy: 0.8415\n",
            "Epoch 33/65\n",
            "15/15 [==============================] - 3s 176ms/step - loss: 0.4076 - accuracy: 0.8510 - val_loss: 0.4651 - val_accuracy: 0.8192\n",
            "Epoch 34/65\n",
            "15/15 [==============================] - 3s 176ms/step - loss: 0.4032 - accuracy: 0.8513 - val_loss: 0.4263 - val_accuracy: 0.8356\n",
            "Epoch 35/65\n",
            "15/15 [==============================] - 3s 176ms/step - loss: 0.4048 - accuracy: 0.8516 - val_loss: 0.4259 - val_accuracy: 0.8394\n",
            "Epoch 36/65\n",
            "15/15 [==============================] - 3s 176ms/step - loss: 0.3981 - accuracy: 0.8528 - val_loss: 0.3936 - val_accuracy: 0.8491\n",
            "Epoch 37/65\n",
            "15/15 [==============================] - 3s 176ms/step - loss: 0.3971 - accuracy: 0.8532 - val_loss: 0.3663 - val_accuracy: 0.8650\n",
            "Epoch 38/65\n",
            "15/15 [==============================] - 3s 178ms/step - loss: 0.3875 - accuracy: 0.8565 - val_loss: 0.3696 - val_accuracy: 0.8633\n",
            "Epoch 39/65\n",
            "15/15 [==============================] - 3s 177ms/step - loss: 0.3828 - accuracy: 0.8585 - val_loss: 0.3655 - val_accuracy: 0.8648\n",
            "Epoch 40/65\n",
            "15/15 [==============================] - 3s 177ms/step - loss: 0.3827 - accuracy: 0.8578 - val_loss: 0.3993 - val_accuracy: 0.8534\n",
            "Epoch 41/65\n",
            "15/15 [==============================] - 3s 177ms/step - loss: 0.3781 - accuracy: 0.8602 - val_loss: 0.3955 - val_accuracy: 0.8508\n",
            "Epoch 42/65\n",
            "15/15 [==============================] - 3s 178ms/step - loss: 0.3743 - accuracy: 0.8620 - val_loss: 0.3595 - val_accuracy: 0.8664\n",
            "Epoch 43/65\n",
            "15/15 [==============================] - 3s 177ms/step - loss: 0.3691 - accuracy: 0.8633 - val_loss: 0.3451 - val_accuracy: 0.8721\n",
            "Epoch 44/65\n",
            "15/15 [==============================] - 3s 177ms/step - loss: 0.3682 - accuracy: 0.8640 - val_loss: 0.3444 - val_accuracy: 0.8703\n",
            "Epoch 45/65\n",
            "15/15 [==============================] - 3s 177ms/step - loss: 0.3609 - accuracy: 0.8667 - val_loss: 0.4119 - val_accuracy: 0.8437\n",
            "Epoch 46/65\n",
            "15/15 [==============================] - 3s 178ms/step - loss: 0.3576 - accuracy: 0.8693 - val_loss: 0.3530 - val_accuracy: 0.8670\n",
            "Epoch 47/65\n",
            "15/15 [==============================] - 3s 177ms/step - loss: 0.3595 - accuracy: 0.8668 - val_loss: 0.3454 - val_accuracy: 0.8731\n",
            "Epoch 48/65\n",
            "15/15 [==============================] - 3s 178ms/step - loss: 0.3466 - accuracy: 0.8717 - val_loss: 0.3331 - val_accuracy: 0.8774\n",
            "Epoch 49/65\n",
            "15/15 [==============================] - 3s 178ms/step - loss: 0.3537 - accuracy: 0.8686 - val_loss: 0.3286 - val_accuracy: 0.8797\n",
            "Epoch 50/65\n",
            "15/15 [==============================] - 3s 178ms/step - loss: 0.3475 - accuracy: 0.8712 - val_loss: 0.3392 - val_accuracy: 0.8730\n",
            "Epoch 51/65\n",
            "15/15 [==============================] - 3s 177ms/step - loss: 0.3462 - accuracy: 0.8710 - val_loss: 0.3300 - val_accuracy: 0.8762\n",
            "Epoch 52/65\n",
            "15/15 [==============================] - 3s 177ms/step - loss: 0.3384 - accuracy: 0.8738 - val_loss: 0.3557 - val_accuracy: 0.8653\n",
            "Epoch 53/65\n",
            "15/15 [==============================] - 3s 178ms/step - loss: 0.3365 - accuracy: 0.8755 - val_loss: 0.3630 - val_accuracy: 0.8593\n",
            "Epoch 54/65\n",
            "15/15 [==============================] - 3s 177ms/step - loss: 0.3338 - accuracy: 0.8755 - val_loss: 0.3349 - val_accuracy: 0.8766\n",
            "Epoch 55/65\n",
            "15/15 [==============================] - 3s 177ms/step - loss: 0.3321 - accuracy: 0.8755 - val_loss: 0.3409 - val_accuracy: 0.8686\n",
            "Epoch 56/65\n",
            "15/15 [==============================] - 3s 177ms/step - loss: 0.3294 - accuracy: 0.8773 - val_loss: 0.3235 - val_accuracy: 0.8801\n",
            "Epoch 57/65\n",
            "15/15 [==============================] - 3s 177ms/step - loss: 0.3276 - accuracy: 0.8788 - val_loss: 0.3210 - val_accuracy: 0.8816\n",
            "Epoch 58/65\n",
            "15/15 [==============================] - 3s 177ms/step - loss: 0.3224 - accuracy: 0.8799 - val_loss: 0.3119 - val_accuracy: 0.8845\n",
            "Epoch 59/65\n",
            "15/15 [==============================] - 3s 177ms/step - loss: 0.3180 - accuracy: 0.8827 - val_loss: 0.3136 - val_accuracy: 0.8855\n",
            "Epoch 60/65\n",
            "15/15 [==============================] - 3s 177ms/step - loss: 0.3206 - accuracy: 0.8816 - val_loss: 0.3251 - val_accuracy: 0.8818\n",
            "Epoch 61/65\n",
            "15/15 [==============================] - 3s 177ms/step - loss: 0.3128 - accuracy: 0.8834 - val_loss: 0.3674 - val_accuracy: 0.8648\n",
            "Epoch 62/65\n",
            "15/15 [==============================] - 3s 176ms/step - loss: 0.3127 - accuracy: 0.8842 - val_loss: 0.3374 - val_accuracy: 0.8755\n",
            "Epoch 63/65\n",
            "15/15 [==============================] - 3s 176ms/step - loss: 0.3142 - accuracy: 0.8830 - val_loss: 0.3233 - val_accuracy: 0.8804\n",
            "Epoch 64/65\n",
            "15/15 [==============================] - 3s 178ms/step - loss: 0.3093 - accuracy: 0.8839 - val_loss: 0.3311 - val_accuracy: 0.8789\n",
            "Epoch 65/65\n",
            "15/15 [==============================] - 3s 177ms/step - loss: 0.3113 - accuracy: 0.8835 - val_loss: 0.3335 - val_accuracy: 0.8741\n"
          ],
          "name": "stdout"
        }
      ]
    },
    {
      "cell_type": "code",
      "metadata": {
        "id": "zgvjg8NEDXjg",
        "outputId": "9f2f09ef-3a2b-49be-aee3-b2af6955b235",
        "colab": {
          "base_uri": "https://localhost:8080/",
          "height": 559
        }
      },
      "source": [
        "import matplotlib.pyplot as plt\n",
        "acc = history.history['accuracy']\n",
        "val_acc = history.history['val_accuracy']\n",
        "loss = history.history['loss']\n",
        "val_loss = history.history['val_loss']\n",
        "\n",
        "epochs = range(len(acc))\n",
        "\n",
        "plt.plot(epochs, acc, 'bo', label='Training accuracy')\n",
        "plt.plot(epochs, val_acc, 'b', label='Validation accuracy')\n",
        "plt.title('Training and validation accuracy')\n",
        "\n",
        "plt.figure()\n",
        "\n",
        "plt.plot(epochs, loss, 'bo', label='Training Loss')\n",
        "plt.plot(epochs, val_loss, 'b', label='Validation Loss')\n",
        "plt.title('Training and validation loss')\n",
        "plt.legend()\n",
        "\n",
        "plt.show()"
      ],
      "execution_count": null,
      "outputs": [
        {
          "output_type": "display_data",
          "data": {
            "image/png": "[encoded data removed]",
            "text/plain": [
              "<Figure size 432x288 with 1 Axes>"
            ]
          },
          "metadata": {
            "tags": [],
            "needs_background": "light"
          }
        },
        {
          "output_type": "display_data",
          "data": {
            "image/png": "[encoded data removed]",
            "text/plain": [
              "<Figure size 432x288 with 1 Axes>"
            ]
          },
          "metadata": {
            "tags": [],
            "needs_background": "light"
          }
        }
      ]
    },
    {
      "cell_type": "code",
      "metadata": {
        "id": "VeM_flRbzDb4",
        "outputId": "991e20c6-bbcd-4080-c7d0-de711419b70a",
        "colab": {
          "base_uri": "https://localhost:8080/"
        }
      },
      "source": [
        "predicted_classes = model.predict_classes(X_test)\n",
        "submissions=pd.DataFrame({\"ImageId\": list(range(1,len(predicted_classes)+1)),\n",
        "                         \"Label\": predicted_classes})\n",
        "submissions.to_csv(\"submission.csv\", index=False, header=True)"
      ],
      "execution_count": null,
      "outputs": [
        {
          "output_type": "stream",
          "text": [
            "WARNING:tensorflow:From <ipython-input-100-18d105a5be3a>:1: Sequential.predict_classes (from tensorflow.python.keras.engine.sequential) is deprecated and will be removed after 2021-01-01.\n",
            "Instructions for updating:\n",
            "Please use instead:* `np.argmax(model.predict(x), axis=-1)`,   if your model does multi-class classification   (e.g. if it uses a `softmax` last-layer activation).* `(model.predict(x) > 0.5).astype(\"int32\")`,   if your model does binary classification   (e.g. if it uses a `sigmoid` last-layer activation).\n"
          ],
          "name": "stdout"
        }
      ]
    },
    {
      "cell_type": "code",
      "metadata": {
        "id": "-lQjlwHpHXgJ"
      },
      "source": [
        ""
      ],
      "execution_count": null,
      "outputs": []
    }
  ]
}